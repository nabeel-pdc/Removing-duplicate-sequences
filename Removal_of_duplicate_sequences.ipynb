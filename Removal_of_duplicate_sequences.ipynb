{
  "nbformat": 4,
  "nbformat_minor": 0,
  "metadata": {
    "colab": {
      "provenance": [],
      "mount_file_id": "10Sbdw0p3U__p_EclbAFAu1sW_YcJCstT",
      "authorship_tag": "ABX9TyOaJ/dcMEDM3N4n7cZLvB5l",
      "include_colab_link": true
    },
    "kernelspec": {
      "name": "python3",
      "display_name": "Python 3"
    },
    "language_info": {
      "name": "python"
    }
  },
  "cells": [
    {
      "cell_type": "markdown",
      "metadata": {
        "id": "view-in-github",
        "colab_type": "text"
      },
      "source": [
        "<a href=\"https://colab.research.google.com/github/nabeel-pdc/Removing-duplicate-sequences/blob/main/Removal_of_duplicate_sequences.ipynb\" target=\"_parent\"><img src=\"https://colab.research.google.com/assets/colab-badge.svg\" alt=\"Open In Colab\"/></a>"
      ]
    },
    {
      "cell_type": "code",
      "source": [
        "!pip install Biopython\n",
        "\n",
        "from Bio import SeqIO\n",
        "\n",
        "# Define input and output FASTA file names\n",
        "input_file = \"input.fasta\"\n",
        "output_file = \"output.fasta\"\n",
        "\n",
        "# Read input sequences from FASTA file\n",
        "sequences = []\n",
        "for record in SeqIO.parse(input_file, \"fasta\"):\n",
        "    # Keep the original sequence identifier as is\n",
        "    record.id = record.id.replace(\"|\",\"_\")\n",
        "    record.description = \"\"\n",
        "    record.name = \"\"\n",
        "    # Append the updated sequence record to the list\n",
        "    sequences.append(record)\n",
        "\n",
        "# Extract the sequences as strings and remove duplicates\n",
        "unique_sequences = list({str(record.seq) for record in sequences})\n",
        "\n",
        "# Write output sequences to FASTA file\n",
        "with open(output_file, \"w\") as f:\n",
        "    for sequence in sequences:\n",
        "        if str(sequence.seq) in unique_sequences:\n",
        "            f.write(sequence.format(\"fasta\"))\n",
        "            unique_sequences.remove(str(sequence.seq))\n"
      ],
      "metadata": {
        "id": "3YZqQnF4EAqO"
      },
      "execution_count": 3,
      "outputs": []
    }
  ]
}